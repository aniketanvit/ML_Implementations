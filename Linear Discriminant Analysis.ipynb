{
 "cells": [
  {
   "cell_type": "markdown",
   "metadata": {},
   "source": [
    "# LDA"
   ]
  },
  {
   "cell_type": "markdown",
   "metadata": {},
   "source": [
    "# 1- First import data and become familiar with the data. \n",
    "\n",
    "*To do so we should:* \n",
    "\n",
    "- Import required library \n",
    "\n",
    "- Import data set and become comfortable with data "
   ]
  },
  {
   "cell_type": "code",
   "execution_count": 1,
   "metadata": {
    "collapsed": true
   },
   "outputs": [],
   "source": [
    "import numpy as np\n",
    "from sklearn.datasets import fetch_20newsgroups\n",
    "from sklearn.feature_extraction.text import TfidfVectorizer\n",
    "import pickle"
   ]
  },
  {
   "cell_type": "markdown",
   "metadata": {},
   "source": [
    "# 2-Some Data explanation is in order here **"
   ]
  },
  {
   "cell_type": "code",
   "execution_count": 2,
   "metadata": {
    "collapsed": true
   },
   "outputs": [],
   "source": [
    "categories = ['alt.atheism',\n",
    "              'talk.religion.misc',\n",
    "              'comp.graphics',\n",
    "              'sci.space']\n",
    "\n",
    "num_classes = len(categories)"
   ]
  },
  {
   "cell_type": "code",
   "execution_count": 4,
   "metadata": {
    "collapsed": true
   },
   "outputs": [],
   "source": [
    "train=fetch_20newsgroups(subset='train', categories=categories,shuffle=True)\n",
    "test=fetch_20newsgroups(subset='test', categories=categories,shuffle=True)"
   ]
  },
  {
   "cell_type": "code",
   "execution_count": 5,
   "metadata": {
    "collapsed": true
   },
   "outputs": [],
   "source": [
    "train_data=dict()\n",
    "test_data=dict()\n",
    "\n",
    "train_data['target'] = train.target\n",
    "test_data['target'] = test.target\n",
    "\n",
    "vectorizer = TfidfVectorizer(sublinear_tf=True, max_df=0.5,stop_words='english')\n",
    "train_data['data'] = vectorizer.fit_transform(train.data)\n",
    "test_data['data'] = vectorizer.transform(test.data)\n",
    "\n",
    "with open('train.pkl','wb') as f0:\n",
    "    pickle.dump(train_data,f0)\n",
    "f0.close()\n",
    "with open('test.pkl','wb') as f0:\n",
    "    pickle.dump(test_data,f0)\n",
    "f0.close()\n"
   ]
  },
  {
   "cell_type": "markdown",
   "metadata": {},
   "source": [
    "# 3-Data Dimension"
   ]
  },
  {
   "cell_type": "code",
   "execution_count": 6,
   "metadata": {},
   "outputs": [
    {
     "data": {
      "text/plain": [
       "(2034, 33809)"
      ]
     },
     "execution_count": 6,
     "metadata": {},
     "output_type": "execute_result"
    }
   ],
   "source": [
    "train_data['data'].shape"
   ]
  },
  {
   "cell_type": "code",
   "execution_count": 7,
   "metadata": {},
   "outputs": [
    {
     "data": {
      "text/plain": [
       "33809"
      ]
     },
     "execution_count": 7,
     "metadata": {},
     "output_type": "execute_result"
    }
   ],
   "source": [
    "feature_dim = train_data['data'].shape[1]\n",
    "feature_dim"
   ]
  },
  {
   "cell_type": "markdown",
   "metadata": {},
   "source": [
    "# 4-LDA"
   ]
  },
  {
   "cell_type": "markdown",
   "metadata": {},
   "source": [
    "*If you start by applying LDA directely on the training data, you will encounter memory crash since the number of feasures is very big. Therefore, a dimension reduction is necessary.*\n",
    "\n",
    "- We use PCA to reduce the feasure dimension.\n",
    "\n",
    "- For now set the reduction factor to .005 to reduce the runing time until you make sure your code works. Then set the reduction factor to .03 to see if that improves the model performance.\n",
    "\n",
    "- Run the following cell to compute the shrunk data set. We use thePCA model built in Scikit-Learn library. "
   ]
  },
  {
   "cell_type": "code",
   "execution_count": 43,
   "metadata": {},
   "outputs": [
    {
     "data": {
      "text/plain": [
       "1014"
      ]
     },
     "execution_count": 43,
     "metadata": {},
     "output_type": "execute_result"
    }
   ],
   "source": [
    "from sklearn.decomposition import PCA\n",
    "\n",
    "pca = PCA(n_components=int(.03*feature_dim))\n",
    "train_data_shrunk = pca.fit(train_data['data'].todense()).transform(train_data['data'].todense())\n",
    "test_data_shrunk = pca.fit(test_data['data'].todense()).transform(test_data['data'].todense())\n",
    "\n",
    "deducted_feature_dim = train_data_shrunk.shape[1]\n",
    "deducted_feature_dim"
   ]
  },
  {
   "cell_type": "markdown",
   "metadata": {},
   "source": [
    "*In following cell we are going to compute LDA parameters. We should compute following parameters:*\n",
    "\n",
    "- mu: The mean of feasures in each class. \n",
    "\n",
    "- Sigma: The covariance matrix of each class. Be aware that in LDA we assumed that the covariance of classes are the same. Therefore, in real application we take the average of the covariance of all classes.\n",
    "\n",
    "- Pi: The class prior.\n",
    "\n",
    "- Sigma_ave: The average of covariance matrices of all classes.\n",
    "\n",
    "- beta: The parameter given in (4.37)\n",
    "\n",
    "- gamma: The parameter given in (4.36)"
   ]
  },
  {
   "cell_type": "code",
   "execution_count": 44,
   "metadata": {
    "collapsed": true,
    "scrolled": true
   },
   "outputs": [],
   "source": [
    "mu = np.zeros([train_data_shrunk.shape[1],len(categories)], dtype=float)\n",
    "Sigma = np.zeros([train_data_shrunk.shape[1],train_data_shrunk.shape[1],len(categories)])\n",
    "Pi = np.zeros(len(categories),dtype=float)\n",
    "\n",
    "for i in range(0,len(categories)):\n",
    "\n",
    "    \n",
    "Sigma_ave = Sigma.mean(axis=2)\n",
    "beta = \n",
    "gamma = \n"
   ]
  },
  {
   "cell_type": "markdown",
   "metadata": {},
   "source": [
    "*In the following cell we are going to compute:*\n",
    "- class_scores: The class score of each data point in the test data set. This is the numerator in (4.38) \n",
    "- class_prediction: The predicted class based on the class score which is going to be the maximum of all scores of classes.\n",
    "- accuracy_rate: The rate of accurracy of our LDA implementation"
   ]
  },
  {
   "cell_type": "code",
   "execution_count": 46,
   "metadata": {},
   "outputs": [
    {
     "data": {
      "text/plain": [
       "0.71249076127124911"
      ]
     },
     "execution_count": 46,
     "metadata": {},
     "output_type": "execute_result"
    }
   ],
   "source": [
    "class_scores = \n",
    "class_prediction = \n",
    "accuracy_rate = (**).mean()\n",
    "accuracy_rate\n"
   ]
  },
  {
   "cell_type": "markdown",
   "metadata": {},
   "source": [
    "# 5-Compare with Other Linear Models"
   ]
  },
  {
   "cell_type": "markdown",
   "metadata": {},
   "source": [
    "*In following cell we are going to compare LDA with other linear models built in SciKit-Learn*"
   ]
  },
  {
   "cell_type": "code",
   "execution_count": null,
   "metadata": {
    "collapsed": true
   },
   "outputs": [],
   "source": [
    "from sklearn.neighbors import KNeighborsClassifier\n",
    "\n",
    "neigh = KNeighborsClassifier(n_neighbors=4)\n",
    "neigh.fit(train_data_shrunk,train_data['target']) \n",
    "(abs(neigh.predict(test_data_shrunk)-test_data['target'])!=0).mean()\n"
   ]
  }
 ],
 "metadata": {
  "anaconda-cloud": {},
  "kernelspec": {
   "display_name": "Python 3",
   "language": "python",
   "name": "python3"
  },
  "language_info": {
   "codemirror_mode": {
    "name": "ipython",
    "version": 3
   },
   "file_extension": ".py",
   "mimetype": "text/x-python",
   "name": "python",
   "nbconvert_exporter": "python",
   "pygments_lexer": "ipython3",
   "version": "3.6.3"
  }
 },
 "nbformat": 4,
 "nbformat_minor": 1
}
